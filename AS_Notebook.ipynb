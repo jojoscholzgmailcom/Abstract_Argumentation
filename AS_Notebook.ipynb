{
 "cells": [
  {
   "cell_type": "markdown",
   "id": "8e0ae9eb-37ee-4d54-97f9-7e51fdb84f1f",
   "metadata": {},
   "source": [
    "# Abstract Argumentation Systems"
   ]
  },
  {
   "cell_type": "markdown",
   "id": "5cf4df1d-2498-41b6-b03b-d7f3334dfdc4",
   "metadata": {},
   "source": [
    "## Programming Exercise"
   ]
  },
  {
   "cell_type": "markdown",
   "id": "095a729e-7eac-4c6d-b6a4-783cf582328e",
   "metadata": {
    "tags": []
   },
   "source": [
    "These are the specifications of an attack graph, namely the arguments, as well as the attack relationships between them."
   ]
  },
  {
   "cell_type": "code",
   "execution_count": 1,
   "id": "b9e9d402-ab3a-4fe1-84d3-f1e9fb871a63",
   "metadata": {},
   "outputs": [],
   "source": [
    "%matplotlib inline\n",
    "import networkx as nx\n",
    "import numpy as np\n",
    "import matplotlib.pyplot as plt\n",
    "import ipywidgets as widgets\n",
    "from ipywidgets import *\n",
    "from IPython.display import display\n",
    "import re\n",
    "arguments = {\"A\", \"B\", \"C\", \"D\"}#{\"A\", \"B\", \"C\", \"D\", \"E\"}\n",
    "attacks = {(\"A\", \"B\"), (\"B\", \"A\"), (\"C\", \"D\"), (\"D\", \"C\"), (\"C\", \"B\")}#{(\"A\", \"D\"), (\"B\", \"D\"), (\"C\", \"D\"), (\"E\", \"A\"), (\"E\", \"B\"), (\"E\", \"C\")}"
   ]
  },
  {
   "cell_type": "markdown",
   "id": "75ecedce-226f-44e5-94d8-584e975f6140",
   "metadata": {},
   "source": [
    "This function takes a set in and determines if it is conflict free."
   ]
  },
  {
   "cell_type": "code",
   "execution_count": 2,
   "id": "14501897-f973-4df1-a11d-d75ea4468e67",
   "metadata": {
    "tags": []
   },
   "outputs": [],
   "source": [
    "def is_conflict_free(current_set, attacks):\n",
    "    for attack in attacks:\n",
    "        if attack[0] in current_set and attack[1] in current_set:\n",
    "            return False\n",
    "    return True"
   ]
  },
  {
   "cell_type": "markdown",
   "id": "1ca327f4-c81d-4112-8e42-752b0b825d03",
   "metadata": {},
   "source": [
    "This function determine if an element of the given set attacks the argument."
   ]
  },
  {
   "cell_type": "code",
   "execution_count": 3,
   "id": "96394efb-6b56-4f41-92ff-b81eff919756",
   "metadata": {
    "tags": []
   },
   "outputs": [],
   "source": [
    "def does_set_attack(argument, current_set, attacks):\n",
    "    for attack in attacks:\n",
    "        if attack[1] == argument and attack[0] in current_set:\n",
    "            return True\n",
    "    return False"
   ]
  },
  {
   "cell_type": "markdown",
   "id": "5467090e-fec8-4e9f-92c5-51f29804aa3c",
   "metadata": {},
   "source": [
    "This function checks if an argument is acceptable given the current set."
   ]
  },
  {
   "cell_type": "code",
   "execution_count": 4,
   "id": "7e3d50d1-9f4a-4aa0-b5a4-72450b37f46d",
   "metadata": {
    "tags": []
   },
   "outputs": [],
   "source": [
    "def is_acceptable(argument, current_set, attacks):\n",
    "    for attack in attacks:\n",
    "        if attack[1] == argument and not does_set_attack(attack[0], current_set, attacks):\n",
    "            return False\n",
    "    return True"
   ]
  },
  {
   "cell_type": "markdown",
   "id": "15e6fa14-22e7-460d-a414-27c399e19e34",
   "metadata": {},
   "source": [
    "This function checks if the given set is admissible, meaning that it defends against attacks and is conflict free."
   ]
  },
  {
   "cell_type": "code",
   "execution_count": 5,
   "id": "bc869d94-ad88-4c92-b673-811f1e363381",
   "metadata": {
    "tags": []
   },
   "outputs": [],
   "source": [
    "def is_admissible(current_set, attacks):\n",
    "    if not is_conflict_free(current_set, attacks):\n",
    "        return False\n",
    "    for argument in current_set:\n",
    "        if not is_acceptable(argument, current_set, attacks):\n",
    "            return False\n",
    "    return True\n",
    "\n",
    "def will_set_be_admissible(argument, current_set, attacks):\n",
    "    attacked_arguments = set()\n",
    "    for attack in attacks:\n",
    "        if (attack[0] == argument and attack[1] in current_set) or (attack[1] == argument and attack[0] in current_set) or (attack[1] == argument and not does_set_attack(attack[0], current_set, attacks)):\n",
    "            return False, None\n",
    "        if attack[0]==0:\n",
    "            attacked_arguments.add(attack[1])\n",
    "    return True, attacked_arguments"
   ]
  },
  {
   "cell_type": "markdown",
   "id": "c35fbc35-dce5-479a-83a3-794f98b64a0b",
   "metadata": {},
   "source": [
    "This function checks if the given set is the preferred extension, by checking if no other argument is acceptable."
   ]
  },
  {
   "cell_type": "code",
   "execution_count": 6,
   "id": "59ffea23-cfb5-4267-a903-82d78d350d18",
   "metadata": {},
   "outputs": [],
   "source": [
    "def is_preferred_extension(current_set, arguments, attacks):\n",
    "    if not is_admissible(current_set, attacks):\n",
    "        return False\n",
    "    for argument in arguments:\n",
    "        if not argument in current_set and is_acceptable(argument, current_set, attacks):\n",
    "            return False\n",
    "    return True"
   ]
  },
  {
   "cell_type": "code",
   "execution_count": 7,
   "id": "4b18cce0-d7d2-4b51-99d0-564265c4ac24",
   "metadata": {},
   "outputs": [],
   "source": [
    "def is_set_subset(cSet, sets):\n",
    "    for current_set in sets:\n",
    "        if cSet.issubset(current_set) and not cSet == current_set:\n",
    "            return True\n",
    "    return False"
   ]
  },
  {
   "cell_type": "code",
   "execution_count": 8,
   "id": "547d87be-3a15-4ccf-a476-edcac43a8544",
   "metadata": {},
   "outputs": [
    {
     "data": {
      "text/plain": [
       "{frozenset()}"
      ]
     },
     "execution_count": 8,
     "metadata": {},
     "output_type": "execute_result"
    }
   ],
   "source": [
    "def generate_all_admissible_sets(arguments, attacks, current_set, depth):\n",
    "    if depth >= len(arguments):\n",
    "        return set(frozenset(set()))\n",
    "    admissible_set = set()\n",
    "    admissible_set.add(frozenset(set()))\n",
    "    admissible_set.add(frozenset(current_set))\n",
    "    for argument in arguments:\n",
    "        if argument in current_set:\n",
    "            continue\n",
    "        new_set = current_set.copy()\n",
    "        new_set.add(argument)\n",
    "        if is_admissible(new_set, attacks):\n",
    "            admissible_set.add(frozenset(new_set))\n",
    "        admissible_set2 = generate_all_admissible_sets(arguments, attacks, new_set, depth + 1)\n",
    "        admissible_set.update(admissible_set2)\n",
    "    return admissible_set\n",
    "\n",
    "# This method was not used and therfore is not tested\n",
    "def generate_all_admissible_sets_faster(arguments, attacks, current_set, depth):\n",
    "    if depth >= len(arguments)+len(current_set):\n",
    "        return set(frozenset(set()))\n",
    "    admissible_set = set()\n",
    "    admissible_set.add(frozenset(current_set))\n",
    "    for argument in arguments:\n",
    "        if argument in current_set:\n",
    "            continue\n",
    "        new_arguments = arguments.copy()\n",
    "        bool_value, attacked_arguments = will_set_be_admissible(argument, current_set, attacks)\n",
    "        new_set = current_set.copy()\n",
    "        if bool_value:\n",
    "            new_set.add(argument)\n",
    "            admissible_set.add(frozenset(new_set))\n",
    "            new_arguments.remove(argument)\n",
    "            for r_argument in attacked_arguments:\n",
    "                new_arguments.remove(r_argument)\n",
    "        admissible_set2 = generate_all_admissible_sets_faster(new_arguments, attacks, new_set, depth + 1)\n",
    "        admissible_set.update(admissible_set2)\n",
    "    return admissible_set\n",
    "generate_all_admissible_sets_faster(arguments, attacks, set(), 0)"
   ]
  },
  {
   "cell_type": "code",
   "execution_count": 9,
   "id": "ccbc7374-0bf4-423e-9009-d4e12ddf6709",
   "metadata": {},
   "outputs": [
    {
     "data": {
      "text/plain": [
       "{frozenset(),\n",
       " frozenset({'A', 'C', 'D'}),\n",
       " frozenset({'B'}),\n",
       " frozenset({'B', 'D'}),\n",
       " frozenset({'A'}),\n",
       " frozenset({'A', 'B'}),\n",
       " frozenset({'A', 'D'}),\n",
       " frozenset({'A', 'C'}),\n",
       " frozenset({'A', 'B', 'C'}),\n",
       " frozenset({'D'}),\n",
       " frozenset({'A', 'B', 'D'})}"
      ]
     },
     "execution_count": 9,
     "metadata": {},
     "output_type": "execute_result"
    }
   ],
   "source": [
    "def generate_all_complete_extensions(arguments, attacks):\n",
    "    admissible_extensions = generate_all_admissible_sets(arguments, attacks, set(), 0)\n",
    "    complete_extensions = set()\n",
    "    for admissible_extension in admissible_extensions:\n",
    "        complete_extensions.add(admissible_extension)\n",
    "        for argument in arguments:\n",
    "            if not argument in admissible_extension and is_acceptable(argument, admissible_extension, attacks):\n",
    "                complete_extensions.remove(admissible_extension)\n",
    "    return complete_extensions\n",
    "\n",
    "def generate_all_complete_extensions_faster(arguments, attacks, admissible_extensions):\n",
    "    complete_extensions = set()\n",
    "    for admissible_extension in admissible_extensions:\n",
    "        complete_extensions.add(admissible_extension)\n",
    "        for argument in arguments:\n",
    "            if not argument in admissible_extension and is_acceptable(argument, admissible_extension, attacks):\n",
    "                complete_extensions.remove(admissible_extension)\n",
    "                break\n",
    "    return complete_extensions\n",
    "generate_all_complete_extensions(arguments, attacks)"
   ]
  },
  {
   "cell_type": "markdown",
   "id": "5dd5b624-6ab4-4754-80a4-123443acab1b",
   "metadata": {},
   "source": [
    "This function returns a set of sets that are preferred extensions."
   ]
  },
  {
   "cell_type": "code",
   "execution_count": 10,
   "id": "c879d42f-e37e-43cc-ab04-98cecd147caa",
   "metadata": {},
   "outputs": [
    {
     "data": {
      "text/plain": [
       "{frozenset({'A', 'C', 'D'}),\n",
       " frozenset({'B', 'C', 'D'}),\n",
       " frozenset({'A', 'B', 'C'}),\n",
       " frozenset({'A', 'B', 'D'})}"
      ]
     },
     "execution_count": 10,
     "metadata": {},
     "output_type": "execute_result"
    }
   ],
   "source": [
    "def generate_preferred_extensions(arguments, attacks):\n",
    "    preferred_extensions = set()\n",
    "    admissible_extensions = generate_all_admissible_sets(arguments, attacks, set(), 0)\n",
    "    for admissible_extension in admissible_extensions:\n",
    "        if not is_set_subset(admissible_extension, admissible_extensions):\n",
    "            preferred_extensions.add(admissible_extension)\n",
    "    return preferred_extensions\n",
    "\n",
    "def generate_preferred_extensions_faster(complete_extensions):\n",
    "    preferred_extensions = set()\n",
    "    for admissible_extension in complete_extensions:\n",
    "        if not is_set_subset(admissible_extension, complete_extensions):\n",
    "            preferred_extensions.add(admissible_extension)\n",
    "    return preferred_extensions\n",
    "\n",
    "generate_preferred_extensions(arguments, attacks)"
   ]
  },
  {
   "cell_type": "markdown",
   "id": "b79864a1-0874-471f-84a1-0fbf97c07284",
   "metadata": {},
   "source": [
    "This function returns a set of stable extensions."
   ]
  },
  {
   "cell_type": "code",
   "execution_count": 11,
   "id": "a351b053-5509-4f9d-8ac0-a6aa11e2c9ea",
   "metadata": {},
   "outputs": [
    {
     "data": {
      "text/plain": [
       "{frozenset({'A', 'C', 'D'}),\n",
       " frozenset({'B', 'C', 'D'}),\n",
       " frozenset({'A', 'B', 'C'}),\n",
       " frozenset({'A', 'B', 'D'})}"
      ]
     },
     "execution_count": 11,
     "metadata": {},
     "output_type": "execute_result"
    }
   ],
   "source": [
    "def generate_stable_extensions(arguments, attacks):\n",
    "    preferred_extensions = generate_preferred_extensions(arguments, attacks)\n",
    "    stable_extensions = set()\n",
    "    for preferred_extension in preferred_extensions:\n",
    "        attacked = True\n",
    "        for argument in arguments:\n",
    "            if argument in preferred_extension:\n",
    "                continue\n",
    "            if not does_set_attack(argument, preferred_extension, attacks):\n",
    "                attacked = False\n",
    "                break\n",
    "        if attacked:\n",
    "            stable_extensions.add(preferred_extension)\n",
    "    return stable_extensions\n",
    "\n",
    "def generate_stable_extensions_faster(arguments, attacks, preferred_extensions):\n",
    "    stable_extensions = set()\n",
    "    for preferred_extension in preferred_extensions:\n",
    "        attacked = True\n",
    "        for argument in arguments:\n",
    "            if argument in preferred_extension:\n",
    "                continue\n",
    "            if not does_set_attack(argument, preferred_extension, attacks):\n",
    "                attacked = False\n",
    "                break\n",
    "        if attacked:\n",
    "            stable_extensions.add(preferred_extension)\n",
    "    return stable_extensions\n",
    "generate_stable_extensions(arguments, attacks)"
   ]
  },
  {
   "cell_type": "markdown",
   "id": "54a04b22-7586-46c8-9144-8372f9b6d492",
   "metadata": {},
   "source": [
    "This function returns the grounded extension of the argumentation framework."
   ]
  },
  {
   "cell_type": "code",
   "execution_count": 12,
   "id": "b323f7c2-c6f3-4b05-8daa-f79e1da1fc2c",
   "metadata": {},
   "outputs": [
    {
     "data": {
      "text/plain": [
       "set()"
      ]
     },
     "execution_count": 12,
     "metadata": {},
     "output_type": "execute_result"
    }
   ],
   "source": [
    "def generate_grounded_extension(arguments, attacks):\n",
    "    grounded_extension = set()\n",
    "    hasChanged = True\n",
    "    while hasChanged:\n",
    "        hasChanged = False\n",
    "        for argument in arguments:\n",
    "            if argument in grounded_extension:\n",
    "                continue\n",
    "            if(is_acceptable(argument, grounded_extension, attacks)):\n",
    "                grounded_extension.add(argument)\n",
    "                hasChanged = True\n",
    "    return grounded_extension\n",
    "\n",
    "# This one should not be used, as it has not been tested yet\n",
    "def generate_preferred_extensions_shortcut(arguments, attacks):\n",
    "    preferred_extensions = set()\n",
    "    admissible_extensions = generate_all_admissible_sets(arguments, attacks, generate_grounded_extension(arguments, attacks), 0)\n",
    "    for admissible_extension in admissible_extensions:\n",
    "        if not is_set_subset(admissible_extension, admissible_extensions):\n",
    "            preferred_extensions.add(admissible_extension)\n",
    "    return preferred_extensions\n",
    "generate_grounded_extension(arguments, attacks)"
   ]
  },
  {
   "cell_type": "code",
   "execution_count": 13,
   "id": "e726089f-ed45-4655-a28d-2fa7e42e4a01",
   "metadata": {},
   "outputs": [
    {
     "data": {
      "application/vnd.jupyter.widget-view+json": {
       "model_id": "c8487f5512bc42b39fb170628d8b86af",
       "version_major": 2,
       "version_minor": 0
      },
      "text/plain": [
       "interactive(children=(Text(value='A,B', description='str_arguments'), Text(value='(A,B), (B,A)', description='…"
      ]
     },
     "metadata": {},
     "output_type": "display_data"
    }
   ],
   "source": [
    "def getGraphFromStrings(str_arguments, str_attacks):\n",
    "    arguments = re.split(\"\\s*,\\s*\", str_arguments)\n",
    "    attacks = set()\n",
    "    split_attacks = re.split(\"\\s*\\)\\s*,\\s*\\(\\s*\", str_attacks)\n",
    "    for attack in split_attacks:\n",
    "        attack = re.sub(\"[\\(\\)]\", \"\", attack)\n",
    "        attackparts = re.split(\"\\s*,\\s*\", attack)\n",
    "        attacks.add((attackparts[0], attackparts[1]))\n",
    "    output(arguments, attacks)\n",
    "def get_string_set(current_set):\n",
    "    string_set = \"{\"\n",
    "    count = len(current_set)\n",
    "    for argument in current_set:\n",
    "        count -= 1\n",
    "        string_set += argument\n",
    "        if count > 0:\n",
    "            string_set += \", \"\n",
    "    string_set += \"}\"\n",
    "    return string_set\n",
    "def string_set_with_subsets(current_set, allows_empty_set):\n",
    "    count = len(current_set)\n",
    "    if len(current_set)>1:\n",
    "        string_set = \"are: {\"\n",
    "    elif len(current_set)==1:\n",
    "        string_set = \"is: \"\n",
    "    elif allows_empty_set:\n",
    "        string_set = \"is: {\"\n",
    "    else:\n",
    "        string_set = \"does not exist.\"\n",
    "    for cSet in current_set:\n",
    "        count -= 1\n",
    "        string_set += get_string_set(cSet)\n",
    "        if count > 0:\n",
    "            string_set += \", \"\n",
    "    if len(current_set)>1 or (len(current_set) == 0 and allows_empty_set):\n",
    "        string_set += \"}\"\n",
    "    return string_set\n",
    "def output(arguments, attacks):\n",
    "    G = nx.DiGraph(directed=True)\n",
    "    G.add_nodes_from(arguments)\n",
    "    G.add_edges_from(attacks)\n",
    "    options = {\n",
    "        'node_color': 'white',\n",
    "        'node_size': 250,\n",
    "        'width': 2,\n",
    "        'arrowstyle': '-|>',\n",
    "        'arrowsize': 12,\n",
    "        'pos': nx.planar_layout(G)\n",
    "    }\n",
    "    fig, ax = plt.subplots(figsize=(10,10))\n",
    "    nx.draw_networkx(G, arrows=True, **options)\n",
    "    print(\"This is the attack graph:\")\n",
    "    plt.show()\n",
    "    admissible_extensions = generate_all_admissible_sets(arguments, attacks, set(), 0)\n",
    "    complete_extensions = generate_all_complete_extensions_faster(arguments, attacks, admissible_extensions)\n",
    "    preferred_extensions = generate_preferred_extensions_faster(complete_extensions)\n",
    "    stable_extensions = generate_stable_extensions_faster(arguments, attacks, preferred_extensions)\n",
    "    print(\"The admissible extensions of this graph\", string_set_with_subsets(admissible_extensions, True), \"\\n\")\n",
    "    print(\"The complete extensions of this graph\", string_set_with_subsets(complete_extensions, True), \"\\n\")\n",
    "    print(\"The preferred extensions of this graph\", string_set_with_subsets(preferred_extensions, True), \"\\n\")\n",
    "    print(\"The stable extensions of this graph\", string_set_with_subsets(stable_extensions, False), \"\\n\")\n",
    "    print(\"The grounded extension of this graph is:\", get_string_set(generate_grounded_extension(arguments, attacks)))\n",
    "\n",
    "i_output = interact(getGraphFromStrings, str_arguments=\"A,B\", str_attacks=\"(A,B), (B,A)\")"
   ]
  },
  {
   "cell_type": "code",
   "execution_count": 14,
   "id": "bcb73a97-36e4-4a0f-8a4e-1dcf585e9ce2",
   "metadata": {},
   "outputs": [
    {
     "data": {
      "application/vnd.jupyter.widget-view+json": {
       "model_id": "4c3b22764aac4ad7b1d7b4732294bed0",
       "version_major": 2,
       "version_minor": 0
      },
      "text/plain": [
       "interactive(children=(Text(value='a b', description='str_graph'), Output()), _dom_classes=('widget-interact',)…"
      ]
     },
     "metadata": {},
     "output_type": "display_data"
    }
   ],
   "source": [
    "def readCommaStyleGraph(str_graph):\n",
    "    attacks = set()\n",
    "    arguments = set()\n",
    "    str_attacks = re.split(\"\\s*,\\s*\", str_graph)\n",
    "    for str_attack in str_attacks:\n",
    "        str_participants = re.split(\"\\s+\", str_attack)\n",
    "        arguments.add(str_participants[0])\n",
    "        for i in range(1,len(str_participants)):\n",
    "            arguments.add(str_participants[i])\n",
    "            attacks.add((str_participants[i], str_participants[0]))\n",
    "    output(arguments, attacks)\n",
    "i_output = interact(readCommaStyleGraph, str_graph=\"a b\")  "
   ]
  },
  {
   "cell_type": "code",
   "execution_count": null,
   "id": "e0ee32ec-dbfe-41fd-8886-0fd7168391e6",
   "metadata": {},
   "outputs": [],
   "source": []
  }
 ],
 "metadata": {
  "kernelspec": {
   "display_name": "Python 3.9 (XPython)",
   "language": "python",
   "name": "xpython"
  },
  "language_info": {
   "file_extension": ".py",
   "mimetype": "text/x-python",
   "name": "python",
   "version": "3.9.9"
  }
 },
 "nbformat": 4,
 "nbformat_minor": 5
}
